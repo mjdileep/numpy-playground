{
  "nbformat": 4,
  "nbformat_minor": 0,
  "metadata": {
    "colab": {
      "provenance": [],
      "authorship_tag": "ABX9TyMuFM2THdru6tavnk2QzGE+",
      "include_colab_link": true
    },
    "kernelspec": {
      "name": "python3",
      "display_name": "Python 3"
    },
    "language_info": {
      "name": "python"
    }
  },
  "cells": [
    {
      "cell_type": "markdown",
      "metadata": {
        "id": "view-in-github",
        "colab_type": "text"
      },
      "source": [
        "<a href=\"https://colab.research.google.com/github/mjdileep/numpy-playground/blob/main/numpy_matrix_operations_symbolic.ipynb\" target=\"_parent\"><img src=\"https://colab.research.google.com/assets/colab-badge.svg\" alt=\"Open In Colab\"/></a>"
      ]
    },
    {
      "cell_type": "code",
      "execution_count": null,
      "metadata": {
        "id": "6kzGL1BS8jnB"
      },
      "outputs": [],
      "source": [
        "import numpy as np\n",
        "from IPython.display import display, Markdown\n",
        "class Symb:\n",
        "  \"\"\"\n",
        "  Var data type implements some of the common \n",
        "  arithmetic operations as symbolic operations \n",
        "  for visualization porpose\n",
        "  \"\"\"\n",
        "  \n",
        "  def __init__(self, value, i=\"\"):\n",
        "    if i:\n",
        "      self.value = \"{}<sub>{}</sub>\".format(value, i)\n",
        "    else:\n",
        "      self.value = value\n",
        "\n",
        "  def __sub__(self, other):\n",
        "    if type(other)!=Symb:\n",
        "      other = Symb(str(other))\n",
        "    return Symb(self.value+\"-\"+other.value)\n",
        "\n",
        "  def __add__(self, other):\n",
        "    if type(other)!=Symb:\n",
        "      other = Symb(str(other))\n",
        "    return Symb(self.value+\"+\"+other.value)\n",
        "\n",
        "  def __mul__(self, other):\n",
        "    if type(other)!=Symb:\n",
        "      other = Symb(str(other))\n",
        "    return Symb(self.value+\"*\"+other.value)\n",
        "\n",
        "  def __pow__(self, other):\n",
        "    if type(other)!=Symb:\n",
        "      other = Symb(str(other))\n",
        "    return Symb(\"{}<sup>{}</sup>\".format(self.value, other.value))\n",
        "  \n",
        "  def __truediv__(self, other):\n",
        "    if type(other)!=Symb:\n",
        "      other = Symb(str(other))\n",
        "    return Symb(self.value+\"/\"+other.value)\n",
        "  \n",
        "  def __rsub__(self, other):\n",
        "    if type(other)!=Symb:\n",
        "      other = Symb(str(other))\n",
        "    return other - self\n",
        "    \n",
        "  def __radd__(self, other):\n",
        "    if type(other)!=Symb:\n",
        "      other = Symb(str(other))\n",
        "    return other + self\n",
        "\n",
        "  def __rmul__(self, other):\n",
        "    if type(other)!=Symb:\n",
        "      other = Symb(str(other))\n",
        "    return other * self\n",
        "  \n",
        "  def __rtruediv__(self, other):\n",
        "    if type(other)!=Symb:\n",
        "      other = Symb(str(other))\n",
        "    return other / self\n",
        "  \n",
        "  def __rpow__(self, other):\n",
        "    if type(other)!=Symb:\n",
        "      other = Symb(str(other))\n",
        "    return other ** self\n",
        "\n",
        "  def exp(self):\n",
        "    return Symb(\"e<sup>{}</sup>\".format(self.value))\n",
        "\n",
        "  def __repr__(self):\n",
        "     return \"&ensp;\"+self.value\n",
        "\n",
        "  def shape(self):\n",
        "    return (1)\n",
        "\n",
        "def show(s):\n",
        "  \"\"\"\n",
        "  format the np ndarray of Var and print\n",
        "  \"\"\"\n",
        "  shape = \"&ensp;<sub>{}</sub>\".format(str(s.shape).replace(\",)\", ', 1)')[1:-1].replace(\",\", ' x'))\n",
        "  display(Markdown(str(s).replace(\"]\\n\", \"],</br>\")+shape))\n",
        "\n",
        "def ndmatrix(name, dims):\n",
        "  \"\"\"\n",
        "  Create ndarray of Var(s)\n",
        "  \"\"\"\n",
        "  name = name.upper()\n",
        "  a = np.ndarray(dims, dtype=Var)\n",
        "  l_i = -3 if dims[-1]==1 else -1\n",
        "  f_i = 4 if dims[0]==1 else 1\n",
        "  for index in np.ndindex(dims):\n",
        "    a[index]=Symb(name, str(index)[f_i:l_i].replace(\", \", \",\"))\n",
        "  return a\n"
      ]
    },
    {
      "cell_type": "markdown",
      "source": [
        "Define a matrix:"
      ],
      "metadata": {
        "id": "26kjPYpLW-3O"
      }
    },
    {
      "cell_type": "code",
      "source": [
        "a = ndmatrix(\"a\", (4,4))\n",
        "show(a)"
      ],
      "metadata": {
        "colab": {
          "base_uri": "https://localhost:8080/",
          "height": 110
        },
        "id": "_b6MSHlLZ630",
        "outputId": "03240baa-fc9f-4329-fa81-f7d98e248bed"
      },
      "execution_count": null,
      "outputs": [
        {
          "output_type": "display_data",
          "data": {
            "text/plain": [
              "<IPython.core.display.Markdown object>"
            ],
            "text/markdown": "[[&ensp;A<sub>0,0</sub> &ensp;A<sub>0,1</sub> &ensp;A<sub>0,2</sub>\n  &ensp;A<sub>0,3</sub>],</br> [&ensp;A<sub>1,0</sub> &ensp;A<sub>1,1</sub> &ensp;A<sub>1,2</sub>\n  &ensp;A<sub>1,3</sub>],</br> [&ensp;A<sub>2,0</sub> &ensp;A<sub>2,1</sub> &ensp;A<sub>2,2</sub>\n  &ensp;A<sub>2,3</sub>],</br> [&ensp;A<sub>3,0</sub> &ensp;A<sub>3,1</sub> &ensp;A<sub>3,2</sub>\n  &ensp;A<sub>3,3</sub>]]&ensp;<sub>4 x 4</sub>"
          },
          "metadata": {}
        }
      ]
    },
    {
      "cell_type": "markdown",
      "source": [
        "Element-wise indexing:"
      ],
      "metadata": {
        "id": "j6w8b4FLSvbJ"
      }
    },
    {
      "cell_type": "code",
      "source": [
        "show(a[1,1]) #Returns the 1,1 element in the matrix\n",
        "show(a[1,3]) #Returns the 1,3 element in the matrix"
      ],
      "metadata": {
        "colab": {
          "base_uri": "https://localhost:8080/",
          "height": 79
        },
        "id": "WVKpfqTJWZ1V",
        "outputId": "d6226b0f-c01b-49f1-ecaa-1e65b3b0cf22"
      },
      "execution_count": null,
      "outputs": [
        {
          "output_type": "display_data",
          "data": {
            "text/plain": [
              "<IPython.core.display.Markdown object>"
            ],
            "text/markdown": "&ensp;A<sub>1,1</sub>&ensp;<sub>bound method Symb.shape of &ensp;A<sub>1 x1</sub></sub>"
          },
          "metadata": {}
        },
        {
          "output_type": "display_data",
          "data": {
            "text/plain": [
              "<IPython.core.display.Markdown object>"
            ],
            "text/markdown": "&ensp;A<sub>1,3</sub>&ensp;<sub>bound method Symb.shape of &ensp;A<sub>1 x3</sub></sub>"
          },
          "metadata": {}
        }
      ]
    },
    {
      "cell_type": "markdown",
      "source": [
        "Rows:"
      ],
      "metadata": {
        "id": "MNi0nbSqaO9B"
      }
    },
    {
      "cell_type": "code",
      "source": [
        "show(a[1,:]) #Returns the 1st row in the matrix as a row vector\n",
        "show(a[3,:]) #Returns the 3rd row in the matrix as a row vector"
      ],
      "metadata": {
        "colab": {
          "base_uri": "https://localhost:8080/",
          "height": 76
        },
        "id": "2llUPPemH03F",
        "outputId": "ee5e62a4-013d-4cb5-f2d0-b602e2438b80"
      },
      "execution_count": null,
      "outputs": [
        {
          "output_type": "display_data",
          "data": {
            "text/plain": [
              "<IPython.core.display.Markdown object>"
            ],
            "text/markdown": "[&ensp;A<sub>1,0</sub> &ensp;A<sub>1,1</sub> &ensp;A<sub>1,2</sub>\n &ensp;A<sub>1,3</sub>]&ensp;<sub>4 x 1</sub>"
          },
          "metadata": {}
        },
        {
          "output_type": "display_data",
          "data": {
            "text/plain": [
              "<IPython.core.display.Markdown object>"
            ],
            "text/markdown": "[&ensp;A<sub>3,0</sub> &ensp;A<sub>3,1</sub> &ensp;A<sub>3,2</sub>\n &ensp;A<sub>3,3</sub>]&ensp;<sub>4 x 1</sub>"
          },
          "metadata": {}
        }
      ]
    },
    {
      "cell_type": "markdown",
      "source": [
        "Columns:"
      ],
      "metadata": {
        "id": "9-481I0xblR7"
      }
    },
    {
      "cell_type": "code",
      "source": [
        "show(a[:,1]) #Returns the 1st column in the matrix as a row vector\n",
        "show(a[:,3]) #Returns the 3rd column in the matrix as a row vector"
      ],
      "metadata": {
        "colab": {
          "base_uri": "https://localhost:8080/",
          "height": 76
        },
        "id": "iNBpXnpwIVZt",
        "outputId": "5f6ac20a-fef7-4a2b-87d0-c138d8450dab"
      },
      "execution_count": null,
      "outputs": [
        {
          "output_type": "display_data",
          "data": {
            "text/plain": [
              "<IPython.core.display.Markdown object>"
            ],
            "text/markdown": "[&ensp;A<sub>0,1</sub> &ensp;A<sub>1,1</sub> &ensp;A<sub>2,1</sub>\n &ensp;A<sub>3,1</sub>]&ensp;<sub>4 x 1</sub>"
          },
          "metadata": {}
        },
        {
          "output_type": "display_data",
          "data": {
            "text/plain": [
              "<IPython.core.display.Markdown object>"
            ],
            "text/markdown": "[&ensp;A<sub>0,3</sub> &ensp;A<sub>1,3</sub> &ensp;A<sub>2,3</sub>\n &ensp;A<sub>3,3</sub>]&ensp;<sub>4 x 1</sub>"
          },
          "metadata": {}
        }
      ]
    },
    {
      "cell_type": "markdown",
      "source": [
        "Rows or Columns range:"
      ],
      "metadata": {
        "id": "7UXBvXGvcFCA"
      }
    },
    {
      "cell_type": "code",
      "source": [
        "show(a[:,1:3]) #Returns the (1,3] columns in the matrix (range is left-inclusive)\n",
        "show(a[1:4,:]) #Returns the (1,4] rows in the matrix (range is left-inclusive)"
      ],
      "metadata": {
        "colab": {
          "base_uri": "https://localhost:8080/",
          "height": 177
        },
        "id": "8GuJK1bNbwaY",
        "outputId": "b91c531d-8513-48da-db0e-3c2adac32590"
      },
      "execution_count": null,
      "outputs": [
        {
          "output_type": "display_data",
          "data": {
            "text/plain": [
              "<IPython.core.display.Markdown object>"
            ],
            "text/markdown": "[[&ensp;A<sub>0,1</sub> &ensp;A<sub>0,2</sub>],</br> [&ensp;A<sub>1,1</sub> &ensp;A<sub>1,2</sub>],</br> [&ensp;A<sub>2,1</sub> &ensp;A<sub>2,2</sub>],</br> [&ensp;A<sub>3,1</sub> &ensp;A<sub>3,2</sub>]]&ensp;<sub>4 x 2</sub>"
          },
          "metadata": {}
        },
        {
          "output_type": "display_data",
          "data": {
            "text/plain": [
              "<IPython.core.display.Markdown object>"
            ],
            "text/markdown": "[[&ensp;A<sub>1,0</sub> &ensp;A<sub>1,1</sub> &ensp;A<sub>1,2</sub>\n  &ensp;A<sub>1,3</sub>],</br> [&ensp;A<sub>2,0</sub> &ensp;A<sub>2,1</sub> &ensp;A<sub>2,2</sub>\n  &ensp;A<sub>2,3</sub>],</br> [&ensp;A<sub>3,0</sub> &ensp;A<sub>3,1</sub> &ensp;A<sub>3,2</sub>\n  &ensp;A<sub>3,3</sub>]]&ensp;<sub>3 x 4</sub>"
          },
          "metadata": {}
        }
      ]
    },
    {
      "cell_type": "markdown",
      "source": [
        "Rows and Columns range:"
      ],
      "metadata": {
        "id": "yJkqvXm1c-PK"
      }
    },
    {
      "cell_type": "code",
      "source": [
        "show(a[1:4,1:3]) #Returns the intersection of (1,4] rows and (1,3] columns in the matrix (range is left-inclusive)"
      ],
      "metadata": {
        "colab": {
          "base_uri": "https://localhost:8080/",
          "height": 90
        },
        "id": "-2s2MwrIcco6",
        "outputId": "3fb2e3d3-9671-4029-8f4f-7c8b95aae26f"
      },
      "execution_count": null,
      "outputs": [
        {
          "output_type": "display_data",
          "data": {
            "text/plain": [
              "<IPython.core.display.Markdown object>"
            ],
            "text/markdown": "[[&ensp;A<sub>1,1</sub> &ensp;A<sub>1,2</sub>],</br> [&ensp;A<sub>2,1</sub> &ensp;A<sub>2,2</sub>],</br> [&ensp;A<sub>3,1</sub> &ensp;A<sub>3,2</sub>]]&ensp;<sub>3 x 2</sub>"
          },
          "metadata": {}
        }
      ]
    },
    {
      "cell_type": "markdown",
      "source": [
        "Jump by fixed number of steps through both rows and columns:"
      ],
      "metadata": {
        "id": "2uBrxWGulIRY"
      }
    },
    {
      "cell_type": "code",
      "source": [
        "show(a[::2,::2]) #Returns the intersection of (1,4] rows and (1,3] columns in the matrix (range is left-inclusive)"
      ],
      "metadata": {
        "colab": {
          "base_uri": "https://localhost:8080/",
          "height": 70
        },
        "id": "gjZdto2rdXUC",
        "outputId": "46d6d682-4ba0-4f4e-e089-414e85d16951"
      },
      "execution_count": null,
      "outputs": [
        {
          "output_type": "display_data",
          "data": {
            "text/plain": [
              "<IPython.core.display.Markdown object>"
            ],
            "text/markdown": "[[&ensp;A<sub>0,0</sub> &ensp;A<sub>0,2</sub>],</br> [&ensp;A<sub>2,0</sub> &ensp;A<sub>2,2</sub>]]&ensp;<sub>2 x 2</sub>"
          },
          "metadata": {}
        }
      ]
    },
    {
      "cell_type": "markdown",
      "source": [
        "Matrix-wide operations:"
      ],
      "metadata": {
        "id": "mugyUPuBvFy8"
      }
    },
    {
      "cell_type": "code",
      "source": [
        "show(a.sum(axis=0)) #Sum across all rows"
      ],
      "metadata": {
        "colab": {
          "base_uri": "https://localhost:8080/",
          "height": 49
        },
        "id": "IwFquE9UlhUu",
        "outputId": "c57b9ad0-72b0-411f-e213-42462e5df850"
      },
      "execution_count": null,
      "outputs": [
        {
          "output_type": "display_data",
          "data": {
            "text/plain": [
              "<IPython.core.display.Markdown object>"
            ],
            "text/markdown": "[&ensp;A<sub>0,0</sub>+A<sub>1,0</sub>+A<sub>2,0</sub>+A<sub>3,0</sub>\n &ensp;A<sub>0,1</sub>+A<sub>1,1</sub>+A<sub>2,1</sub>+A<sub>3,1</sub>\n &ensp;A<sub>0,2</sub>+A<sub>1,2</sub>+A<sub>2,2</sub>+A<sub>3,2</sub>\n &ensp;A<sub>0,3</sub>+A<sub>1,3</sub>+A<sub>2,3</sub>+A<sub>3,3</sub>]&ensp;<sub>4 x 1</sub>"
          },
          "metadata": {}
        }
      ]
    },
    {
      "cell_type": "code",
      "source": [
        "show(a.sum(axis=1)) #Sum across all columns"
      ],
      "metadata": {
        "colab": {
          "base_uri": "https://localhost:8080/",
          "height": 49
        },
        "id": "ZOIQ4-U2u5uQ",
        "outputId": "9f1de67f-145b-4ed5-866a-f3e8c07a6d6e"
      },
      "execution_count": null,
      "outputs": [
        {
          "output_type": "display_data",
          "data": {
            "text/plain": [
              "<IPython.core.display.Markdown object>"
            ],
            "text/markdown": "[&ensp;A<sub>0,0</sub>+A<sub>0,1</sub>+A<sub>0,2</sub>+A<sub>0,3</sub>\n &ensp;A<sub>1,0</sub>+A<sub>1,1</sub>+A<sub>1,2</sub>+A<sub>1,3</sub>\n &ensp;A<sub>2,0</sub>+A<sub>2,1</sub>+A<sub>2,2</sub>+A<sub>2,3</sub>\n &ensp;A<sub>3,0</sub>+A<sub>3,1</sub>+A<sub>3,2</sub>+A<sub>3,3</sub>]&ensp;<sub>4 x 1</sub>"
          },
          "metadata": {}
        }
      ]
    },
    {
      "cell_type": "markdown",
      "source": [
        "Matrix matrix operations </br> let's define a matrix b with same shape"
      ],
      "metadata": {
        "id": "fFZdCXNuxGfm"
      }
    },
    {
      "cell_type": "code",
      "source": [
        "b = ndmatrix(\"b\", a.shape)"
      ],
      "metadata": {
        "id": "ozTikcgtw1nz"
      },
      "execution_count": null,
      "outputs": []
    },
    {
      "cell_type": "code",
      "source": [
        "show(a+b) #Element-wise sum"
      ],
      "metadata": {
        "colab": {
          "base_uri": "https://localhost:8080/",
          "height": 110
        },
        "id": "45J-5LUTyBEC",
        "outputId": "e603e596-7bd7-4742-af30-69ab80a371a9"
      },
      "execution_count": null,
      "outputs": [
        {
          "output_type": "display_data",
          "data": {
            "text/plain": [
              "<IPython.core.display.Markdown object>"
            ],
            "text/markdown": "[[&ensp;A<sub>0,0</sub>+B<sub>0,0</sub>\n  &ensp;A<sub>0,1</sub>+B<sub>0,1</sub>\n  &ensp;A<sub>0,2</sub>+B<sub>0,2</sub>\n  &ensp;A<sub>0,3</sub>+B<sub>0,3</sub>],</br> [&ensp;A<sub>1,0</sub>+B<sub>1,0</sub>\n  &ensp;A<sub>1,1</sub>+B<sub>1,1</sub>\n  &ensp;A<sub>1,2</sub>+B<sub>1,2</sub>\n  &ensp;A<sub>1,3</sub>+B<sub>1,3</sub>],</br> [&ensp;A<sub>2,0</sub>+B<sub>2,0</sub>\n  &ensp;A<sub>2,1</sub>+B<sub>2,1</sub>\n  &ensp;A<sub>2,2</sub>+B<sub>2,2</sub>\n  &ensp;A<sub>2,3</sub>+B<sub>2,3</sub>],</br> [&ensp;A<sub>3,0</sub>+B<sub>3,0</sub>\n  &ensp;A<sub>3,1</sub>+B<sub>3,1</sub>\n  &ensp;A<sub>3,2</sub>+B<sub>3,2</sub>\n  &ensp;A<sub>3,3</sub>+B<sub>3,3</sub>]]&ensp;<sub>4 x 4</sub>"
          },
          "metadata": {}
        }
      ]
    },
    {
      "cell_type": "code",
      "source": [
        "show(a*b) #Element-wise multiplication"
      ],
      "metadata": {
        "colab": {
          "base_uri": "https://localhost:8080/",
          "height": 110
        },
        "id": "XOtIyqpEyEf1",
        "outputId": "45add6a4-0d90-49b9-f6fc-093067fa5b37"
      },
      "execution_count": null,
      "outputs": [
        {
          "output_type": "display_data",
          "data": {
            "text/plain": [
              "<IPython.core.display.Markdown object>"
            ],
            "text/markdown": "[[&ensp;A<sub>0,0</sub>*B<sub>0,0</sub>\n  &ensp;A<sub>0,1</sub>*B<sub>0,1</sub>\n  &ensp;A<sub>0,2</sub>*B<sub>0,2</sub>\n  &ensp;A<sub>0,3</sub>*B<sub>0,3</sub>],</br> [&ensp;A<sub>1,0</sub>*B<sub>1,0</sub>\n  &ensp;A<sub>1,1</sub>*B<sub>1,1</sub>\n  &ensp;A<sub>1,2</sub>*B<sub>1,2</sub>\n  &ensp;A<sub>1,3</sub>*B<sub>1,3</sub>],</br> [&ensp;A<sub>2,0</sub>*B<sub>2,0</sub>\n  &ensp;A<sub>2,1</sub>*B<sub>2,1</sub>\n  &ensp;A<sub>2,2</sub>*B<sub>2,2</sub>\n  &ensp;A<sub>2,3</sub>*B<sub>2,3</sub>],</br> [&ensp;A<sub>3,0</sub>*B<sub>3,0</sub>\n  &ensp;A<sub>3,1</sub>*B<sub>3,1</sub>\n  &ensp;A<sub>3,2</sub>*B<sub>3,2</sub>\n  &ensp;A<sub>3,3</sub>*B<sub>3,3</sub>]]&ensp;<sub>4 x 4</sub>"
          },
          "metadata": {}
        }
      ]
    },
    {
      "cell_type": "code",
      "source": [
        "show(a-b) #Element-wise substraction"
      ],
      "metadata": {
        "colab": {
          "base_uri": "https://localhost:8080/",
          "height": 110
        },
        "id": "IqBBXY6ryLm1",
        "outputId": "c020cd58-3c5c-4513-97c1-3110bc3c00fb"
      },
      "execution_count": null,
      "outputs": [
        {
          "output_type": "display_data",
          "data": {
            "text/plain": [
              "<IPython.core.display.Markdown object>"
            ],
            "text/markdown": "[[&ensp;A<sub>0,0</sub>-B<sub>0,0</sub>\n  &ensp;A<sub>0,1</sub>-B<sub>0,1</sub>\n  &ensp;A<sub>0,2</sub>-B<sub>0,2</sub>\n  &ensp;A<sub>0,3</sub>-B<sub>0,3</sub>],</br> [&ensp;A<sub>1,0</sub>-B<sub>1,0</sub>\n  &ensp;A<sub>1,1</sub>-B<sub>1,1</sub>\n  &ensp;A<sub>1,2</sub>-B<sub>1,2</sub>\n  &ensp;A<sub>1,3</sub>-B<sub>1,3</sub>],</br> [&ensp;A<sub>2,0</sub>-B<sub>2,0</sub>\n  &ensp;A<sub>2,1</sub>-B<sub>2,1</sub>\n  &ensp;A<sub>2,2</sub>-B<sub>2,2</sub>\n  &ensp;A<sub>2,3</sub>-B<sub>2,3</sub>],</br> [&ensp;A<sub>3,0</sub>-B<sub>3,0</sub>\n  &ensp;A<sub>3,1</sub>-B<sub>3,1</sub>\n  &ensp;A<sub>3,2</sub>-B<sub>3,2</sub>\n  &ensp;A<sub>3,3</sub>-B<sub>3,3</sub>]]&ensp;<sub>4 x 4</sub>"
          },
          "metadata": {}
        }
      ]
    },
    {
      "cell_type": "code",
      "source": [
        "show(a/b) #Element-wise division"
      ],
      "metadata": {
        "colab": {
          "base_uri": "https://localhost:8080/",
          "height": 110
        },
        "id": "a095lMEqyPKe",
        "outputId": "7238dcbe-3c68-46e4-f6e9-db1ff5b8dfaf"
      },
      "execution_count": null,
      "outputs": [
        {
          "output_type": "display_data",
          "data": {
            "text/plain": [
              "<IPython.core.display.Markdown object>"
            ],
            "text/markdown": "[[&ensp;A<sub>0,0</sub>/B<sub>0,0</sub>\n  &ensp;A<sub>0,1</sub>/B<sub>0,1</sub>\n  &ensp;A<sub>0,2</sub>/B<sub>0,2</sub>\n  &ensp;A<sub>0,3</sub>/B<sub>0,3</sub>],</br> [&ensp;A<sub>1,0</sub>/B<sub>1,0</sub>\n  &ensp;A<sub>1,1</sub>/B<sub>1,1</sub>\n  &ensp;A<sub>1,2</sub>/B<sub>1,2</sub>\n  &ensp;A<sub>1,3</sub>/B<sub>1,3</sub>],</br> [&ensp;A<sub>2,0</sub>/B<sub>2,0</sub>\n  &ensp;A<sub>2,1</sub>/B<sub>2,1</sub>\n  &ensp;A<sub>2,2</sub>/B<sub>2,2</sub>\n  &ensp;A<sub>2,3</sub>/B<sub>2,3</sub>],</br> [&ensp;A<sub>3,0</sub>/B<sub>3,0</sub>\n  &ensp;A<sub>3,1</sub>/B<sub>3,1</sub>\n  &ensp;A<sub>3,2</sub>/B<sub>3,2</sub>\n  &ensp;A<sub>3,3</sub>/B<sub>3,3</sub>]]&ensp;<sub>4 x 4</sub>"
          },
          "metadata": {}
        }
      ]
    },
    {
      "cell_type": "code",
      "source": [
        "show(a**b) #Element-wise a^b"
      ],
      "metadata": {
        "colab": {
          "base_uri": "https://localhost:8080/",
          "height": 121
        },
        "id": "Sv3ToRmPyXkl",
        "outputId": "1da6744c-5453-4d39-a2eb-a6d37cc6181c"
      },
      "execution_count": null,
      "outputs": [
        {
          "output_type": "display_data",
          "data": {
            "text/plain": [
              "<IPython.core.display.Markdown object>"
            ],
            "text/markdown": "[[&ensp;A<sub>0,0</sub><sup>B<sub>0,0</sub></sup>\n  &ensp;A<sub>0,1</sub><sup>B<sub>0,1</sub></sup>\n  &ensp;A<sub>0,2</sub><sup>B<sub>0,2</sub></sup>\n  &ensp;A<sub>0,3</sub><sup>B<sub>0,3</sub></sup>],</br> [&ensp;A<sub>1,0</sub><sup>B<sub>1,0</sub></sup>\n  &ensp;A<sub>1,1</sub><sup>B<sub>1,1</sub></sup>\n  &ensp;A<sub>1,2</sub><sup>B<sub>1,2</sub></sup>\n  &ensp;A<sub>1,3</sub><sup>B<sub>1,3</sub></sup>],</br> [&ensp;A<sub>2,0</sub><sup>B<sub>2,0</sub></sup>\n  &ensp;A<sub>2,1</sub><sup>B<sub>2,1</sub></sup>\n  &ensp;A<sub>2,2</sub><sup>B<sub>2,2</sub></sup>\n  &ensp;A<sub>2,3</sub><sup>B<sub>2,3</sub></sup>],</br> [&ensp;A<sub>3,0</sub><sup>B<sub>3,0</sub></sup>\n  &ensp;A<sub>3,1</sub><sup>B<sub>3,1</sub></sup>\n  &ensp;A<sub>3,2</sub><sup>B<sub>3,2</sub></sup>\n  &ensp;A<sub>3,3</sub><sup>B<sub>3,3</sub></sup>]]&ensp;<sub>4 x 4</sub>"
          },
          "metadata": {}
        }
      ]
    },
    {
      "cell_type": "code",
      "source": [
        "show(a@b) #Dot product"
      ],
      "metadata": {
        "colab": {
          "base_uri": "https://localhost:8080/",
          "height": 110
        },
        "id": "QsWhkOWSypdI",
        "outputId": "51f1e33f-9fd8-4773-a8e3-e5a02767c5d4"
      },
      "execution_count": null,
      "outputs": [
        {
          "output_type": "display_data",
          "data": {
            "text/plain": [
              "<IPython.core.display.Markdown object>"
            ],
            "text/markdown": "[[&ensp;A<sub>0,0</sub>*B<sub>0,0</sub>+A<sub>0,1</sub>*B<sub>1,0</sub>+A<sub>0,2</sub>*B<sub>2,0</sub>+A<sub>0,3</sub>*B<sub>3,0</sub>\n  &ensp;A<sub>0,0</sub>*B<sub>0,1</sub>+A<sub>0,1</sub>*B<sub>1,1</sub>+A<sub>0,2</sub>*B<sub>2,1</sub>+A<sub>0,3</sub>*B<sub>3,1</sub>\n  &ensp;A<sub>0,0</sub>*B<sub>0,2</sub>+A<sub>0,1</sub>*B<sub>1,2</sub>+A<sub>0,2</sub>*B<sub>2,2</sub>+A<sub>0,3</sub>*B<sub>3,2</sub>\n  &ensp;A<sub>0,0</sub>*B<sub>0,3</sub>+A<sub>0,1</sub>*B<sub>1,3</sub>+A<sub>0,2</sub>*B<sub>2,3</sub>+A<sub>0,3</sub>*B<sub>3,3</sub>],</br> [&ensp;A<sub>1,0</sub>*B<sub>0,0</sub>+A<sub>1,1</sub>*B<sub>1,0</sub>+A<sub>1,2</sub>*B<sub>2,0</sub>+A<sub>1,3</sub>*B<sub>3,0</sub>\n  &ensp;A<sub>1,0</sub>*B<sub>0,1</sub>+A<sub>1,1</sub>*B<sub>1,1</sub>+A<sub>1,2</sub>*B<sub>2,1</sub>+A<sub>1,3</sub>*B<sub>3,1</sub>\n  &ensp;A<sub>1,0</sub>*B<sub>0,2</sub>+A<sub>1,1</sub>*B<sub>1,2</sub>+A<sub>1,2</sub>*B<sub>2,2</sub>+A<sub>1,3</sub>*B<sub>3,2</sub>\n  &ensp;A<sub>1,0</sub>*B<sub>0,3</sub>+A<sub>1,1</sub>*B<sub>1,3</sub>+A<sub>1,2</sub>*B<sub>2,3</sub>+A<sub>1,3</sub>*B<sub>3,3</sub>],</br> [&ensp;A<sub>2,0</sub>*B<sub>0,0</sub>+A<sub>2,1</sub>*B<sub>1,0</sub>+A<sub>2,2</sub>*B<sub>2,0</sub>+A<sub>2,3</sub>*B<sub>3,0</sub>\n  &ensp;A<sub>2,0</sub>*B<sub>0,1</sub>+A<sub>2,1</sub>*B<sub>1,1</sub>+A<sub>2,2</sub>*B<sub>2,1</sub>+A<sub>2,3</sub>*B<sub>3,1</sub>\n  &ensp;A<sub>2,0</sub>*B<sub>0,2</sub>+A<sub>2,1</sub>*B<sub>1,2</sub>+A<sub>2,2</sub>*B<sub>2,2</sub>+A<sub>2,3</sub>*B<sub>3,2</sub>\n  &ensp;A<sub>2,0</sub>*B<sub>0,3</sub>+A<sub>2,1</sub>*B<sub>1,3</sub>+A<sub>2,2</sub>*B<sub>2,3</sub>+A<sub>2,3</sub>*B<sub>3,3</sub>],</br> [&ensp;A<sub>3,0</sub>*B<sub>0,0</sub>+A<sub>3,1</sub>*B<sub>1,0</sub>+A<sub>3,2</sub>*B<sub>2,0</sub>+A<sub>3,3</sub>*B<sub>3,0</sub>\n  &ensp;A<sub>3,0</sub>*B<sub>0,1</sub>+A<sub>3,1</sub>*B<sub>1,1</sub>+A<sub>3,2</sub>*B<sub>2,1</sub>+A<sub>3,3</sub>*B<sub>3,1</sub>\n  &ensp;A<sub>3,0</sub>*B<sub>0,2</sub>+A<sub>3,1</sub>*B<sub>1,2</sub>+A<sub>3,2</sub>*B<sub>2,2</sub>+A<sub>3,3</sub>*B<sub>3,2</sub>\n  &ensp;A<sub>3,0</sub>*B<sub>0,3</sub>+A<sub>3,1</sub>*B<sub>1,3</sub>+A<sub>3,2</sub>*B<sub>2,3</sub>+A<sub>3,3</sub>*B<sub>3,3</sub>]]&ensp;<sub>4 x 4</sub>"
          },
          "metadata": {}
        }
      ]
    },
    {
      "cell_type": "code",
      "source": [
        "show(a/4.0) #Element-wise division by scaler\n",
        "show(4.0/a) #Element-wise devide an scaler"
      ],
      "metadata": {
        "colab": {
          "base_uri": "https://localhost:8080/",
          "height": 197
        },
        "id": "ujaS06GBzQhJ",
        "outputId": "52895e2b-887f-45c2-99b2-47e204afac84"
      },
      "execution_count": null,
      "outputs": [
        {
          "output_type": "display_data",
          "data": {
            "text/plain": [
              "<IPython.core.display.Markdown object>"
            ],
            "text/markdown": "[[&ensp;A<sub>0,0</sub>/4.0 &ensp;A<sub>0,1</sub>/4.0\n  &ensp;A<sub>0,2</sub>/4.0 &ensp;A<sub>0,3</sub>/4.0],</br> [&ensp;A<sub>1,0</sub>/4.0 &ensp;A<sub>1,1</sub>/4.0\n  &ensp;A<sub>1,2</sub>/4.0 &ensp;A<sub>1,3</sub>/4.0],</br> [&ensp;A<sub>2,0</sub>/4.0 &ensp;A<sub>2,1</sub>/4.0\n  &ensp;A<sub>2,2</sub>/4.0 &ensp;A<sub>2,3</sub>/4.0],</br> [&ensp;A<sub>3,0</sub>/4.0 &ensp;A<sub>3,1</sub>/4.0\n  &ensp;A<sub>3,2</sub>/4.0 &ensp;A<sub>3,3</sub>/4.0]]&ensp;<sub>4 x 4</sub>"
          },
          "metadata": {}
        },
        {
          "output_type": "display_data",
          "data": {
            "text/plain": [
              "<IPython.core.display.Markdown object>"
            ],
            "text/markdown": "[[&ensp;4.0/A<sub>0,0</sub> &ensp;4.0/A<sub>0,1</sub>\n  &ensp;4.0/A<sub>0,2</sub> &ensp;4.0/A<sub>0,3</sub>],</br> [&ensp;4.0/A<sub>1,0</sub> &ensp;4.0/A<sub>1,1</sub>\n  &ensp;4.0/A<sub>1,2</sub> &ensp;4.0/A<sub>1,3</sub>],</br> [&ensp;4.0/A<sub>2,0</sub> &ensp;4.0/A<sub>2,1</sub>\n  &ensp;4.0/A<sub>2,2</sub> &ensp;4.0/A<sub>2,3</sub>],</br> [&ensp;4.0/A<sub>3,0</sub> &ensp;4.0/A<sub>3,1</sub>\n  &ensp;4.0/A<sub>3,2</sub> &ensp;4.0/A<sub>3,3</sub>]]&ensp;<sub>4 x 4</sub>"
          },
          "metadata": {}
        }
      ]
    },
    {
      "cell_type": "markdown",
      "source": [
        "Broadcasting:"
      ],
      "metadata": {
        "id": "lZeDICUd1n87"
      }
    },
    {
      "cell_type": "code",
      "source": [
        "v = ndmatrix(\"v\", (1, 4)) # define a column 1D matrix \n",
        "show(v)"
      ],
      "metadata": {
        "colab": {
          "base_uri": "https://localhost:8080/",
          "height": 49
        },
        "id": "-vupwYng0_-i",
        "outputId": "3daf0fca-f054-48d0-bb3e-76bef070938e"
      },
      "execution_count": null,
      "outputs": [
        {
          "output_type": "display_data",
          "data": {
            "text/plain": [
              "<IPython.core.display.Markdown object>"
            ],
            "text/markdown": "[[&ensp;V<sub>0</sub> &ensp;V<sub>1</sub> &ensp;V<sub>2</sub>\n  &ensp;V<sub>3</sub>]]&ensp;<sub>1 x 4</sub>"
          },
          "metadata": {}
        }
      ]
    },
    {
      "cell_type": "code",
      "source": [
        "show(a*v) # Broadcasting across columns\n",
        "show(a/v) # Broadcasting across columns\n",
        "show(a+v) # Broadcasting across columns\n",
        "show(a-v) # Broadcasting across columns"
      ],
      "metadata": {
        "colab": {
          "base_uri": "https://localhost:8080/",
          "height": 371
        },
        "id": "FZHbWiUs2GUd",
        "outputId": "5633e368-0782-464c-e873-8c84fa68056a"
      },
      "execution_count": null,
      "outputs": [
        {
          "output_type": "display_data",
          "data": {
            "text/plain": [
              "<IPython.core.display.Markdown object>"
            ],
            "text/markdown": "[[&ensp;A<sub>0,0</sub>*V<sub>0</sub> &ensp;A<sub>0,1</sub>*V<sub>1</sub>\n  &ensp;A<sub>0,2</sub>*V<sub>2</sub> &ensp;A<sub>0,3</sub>*V<sub>3</sub>],</br> [&ensp;A<sub>1,0</sub>*V<sub>0</sub> &ensp;A<sub>1,1</sub>*V<sub>1</sub>\n  &ensp;A<sub>1,2</sub>*V<sub>2</sub> &ensp;A<sub>1,3</sub>*V<sub>3</sub>],</br> [&ensp;A<sub>2,0</sub>*V<sub>0</sub> &ensp;A<sub>2,1</sub>*V<sub>1</sub>\n  &ensp;A<sub>2,2</sub>*V<sub>2</sub> &ensp;A<sub>2,3</sub>*V<sub>3</sub>],</br> [&ensp;A<sub>3,0</sub>*V<sub>0</sub> &ensp;A<sub>3,1</sub>*V<sub>1</sub>\n  &ensp;A<sub>3,2</sub>*V<sub>2</sub> &ensp;A<sub>3,3</sub>*V<sub>3</sub>]]&ensp;<sub>4 x 4</sub>"
          },
          "metadata": {}
        },
        {
          "output_type": "display_data",
          "data": {
            "text/plain": [
              "<IPython.core.display.Markdown object>"
            ],
            "text/markdown": "[[&ensp;A<sub>0,0</sub>/V<sub>0</sub> &ensp;A<sub>0,1</sub>/V<sub>1</sub>\n  &ensp;A<sub>0,2</sub>/V<sub>2</sub> &ensp;A<sub>0,3</sub>/V<sub>3</sub>],</br> [&ensp;A<sub>1,0</sub>/V<sub>0</sub> &ensp;A<sub>1,1</sub>/V<sub>1</sub>\n  &ensp;A<sub>1,2</sub>/V<sub>2</sub> &ensp;A<sub>1,3</sub>/V<sub>3</sub>],</br> [&ensp;A<sub>2,0</sub>/V<sub>0</sub> &ensp;A<sub>2,1</sub>/V<sub>1</sub>\n  &ensp;A<sub>2,2</sub>/V<sub>2</sub> &ensp;A<sub>2,3</sub>/V<sub>3</sub>],</br> [&ensp;A<sub>3,0</sub>/V<sub>0</sub> &ensp;A<sub>3,1</sub>/V<sub>1</sub>\n  &ensp;A<sub>3,2</sub>/V<sub>2</sub> &ensp;A<sub>3,3</sub>/V<sub>3</sub>]]&ensp;<sub>4 x 4</sub>"
          },
          "metadata": {}
        },
        {
          "output_type": "display_data",
          "data": {
            "text/plain": [
              "<IPython.core.display.Markdown object>"
            ],
            "text/markdown": "[[&ensp;A<sub>0,0</sub>+V<sub>0</sub> &ensp;A<sub>0,1</sub>+V<sub>1</sub>\n  &ensp;A<sub>0,2</sub>+V<sub>2</sub> &ensp;A<sub>0,3</sub>+V<sub>3</sub>],</br> [&ensp;A<sub>1,0</sub>+V<sub>0</sub> &ensp;A<sub>1,1</sub>+V<sub>1</sub>\n  &ensp;A<sub>1,2</sub>+V<sub>2</sub> &ensp;A<sub>1,3</sub>+V<sub>3</sub>],</br> [&ensp;A<sub>2,0</sub>+V<sub>0</sub> &ensp;A<sub>2,1</sub>+V<sub>1</sub>\n  &ensp;A<sub>2,2</sub>+V<sub>2</sub> &ensp;A<sub>2,3</sub>+V<sub>3</sub>],</br> [&ensp;A<sub>3,0</sub>+V<sub>0</sub> &ensp;A<sub>3,1</sub>+V<sub>1</sub>\n  &ensp;A<sub>3,2</sub>+V<sub>2</sub> &ensp;A<sub>3,3</sub>+V<sub>3</sub>]]&ensp;<sub>4 x 4</sub>"
          },
          "metadata": {}
        },
        {
          "output_type": "display_data",
          "data": {
            "text/plain": [
              "<IPython.core.display.Markdown object>"
            ],
            "text/markdown": "[[&ensp;A<sub>0,0</sub>-V<sub>0</sub> &ensp;A<sub>0,1</sub>-V<sub>1</sub>\n  &ensp;A<sub>0,2</sub>-V<sub>2</sub> &ensp;A<sub>0,3</sub>-V<sub>3</sub>],</br> [&ensp;A<sub>1,0</sub>-V<sub>0</sub> &ensp;A<sub>1,1</sub>-V<sub>1</sub>\n  &ensp;A<sub>1,2</sub>-V<sub>2</sub> &ensp;A<sub>1,3</sub>-V<sub>3</sub>],</br> [&ensp;A<sub>2,0</sub>-V<sub>0</sub> &ensp;A<sub>2,1</sub>-V<sub>1</sub>\n  &ensp;A<sub>2,2</sub>-V<sub>2</sub> &ensp;A<sub>2,3</sub>-V<sub>3</sub>],</br> [&ensp;A<sub>3,0</sub>-V<sub>0</sub> &ensp;A<sub>3,1</sub>-V<sub>1</sub>\n  &ensp;A<sub>3,2</sub>-V<sub>2</sub> &ensp;A<sub>3,3</sub>-V<sub>3</sub>]]&ensp;<sub>4 x 4</sub>"
          },
          "metadata": {}
        }
      ]
    },
    {
      "cell_type": "code",
      "source": [
        "v = ndmatrix(\"v\", (4, 1)) # define a row 1D matrix \n",
        "show(v)"
      ],
      "metadata": {
        "colab": {
          "base_uri": "https://localhost:8080/",
          "height": 110
        },
        "id": "YJ9OUiJt2PCE",
        "outputId": "ef261acb-b148-4c81-9d23-81bcc113751e"
      },
      "execution_count": null,
      "outputs": [
        {
          "output_type": "display_data",
          "data": {
            "text/plain": [
              "<IPython.core.display.Markdown object>"
            ],
            "text/markdown": "[[&ensp;V<sub>0,</sub>],</br> [&ensp;V<sub>1,</sub>],</br> [&ensp;V<sub>2,</sub>],</br> [&ensp;V<sub>3,</sub>]]&ensp;<sub>4 x 1</sub>"
          },
          "metadata": {}
        }
      ]
    },
    {
      "cell_type": "code",
      "source": [
        "show(a*v) # Broadcasting across ros\n",
        "show(a+v) # Broadcasting across ros\n",
        "show(a/v) # Broadcasting across ros\n",
        "show(a-v) # Broadcasting across ros"
      ],
      "metadata": {
        "colab": {
          "base_uri": "https://localhost:8080/",
          "height": 371
        },
        "id": "OAVulKnH2ctr",
        "outputId": "c2d7b18a-448e-4132-afc8-297b245281eb"
      },
      "execution_count": null,
      "outputs": [
        {
          "output_type": "display_data",
          "data": {
            "text/plain": [
              "<IPython.core.display.Markdown object>"
            ],
            "text/markdown": "[[&ensp;A<sub>0,0</sub>*V<sub>0,</sub>\n  &ensp;A<sub>0,1</sub>*V<sub>0,</sub>\n  &ensp;A<sub>0,2</sub>*V<sub>0,</sub>\n  &ensp;A<sub>0,3</sub>*V<sub>0,</sub>],</br> [&ensp;A<sub>1,0</sub>*V<sub>1,</sub>\n  &ensp;A<sub>1,1</sub>*V<sub>1,</sub>\n  &ensp;A<sub>1,2</sub>*V<sub>1,</sub>\n  &ensp;A<sub>1,3</sub>*V<sub>1,</sub>],</br> [&ensp;A<sub>2,0</sub>*V<sub>2,</sub>\n  &ensp;A<sub>2,1</sub>*V<sub>2,</sub>\n  &ensp;A<sub>2,2</sub>*V<sub>2,</sub>\n  &ensp;A<sub>2,3</sub>*V<sub>2,</sub>],</br> [&ensp;A<sub>3,0</sub>*V<sub>3,</sub>\n  &ensp;A<sub>3,1</sub>*V<sub>3,</sub>\n  &ensp;A<sub>3,2</sub>*V<sub>3,</sub>\n  &ensp;A<sub>3,3</sub>*V<sub>3,</sub>]]&ensp;<sub>4 x 4</sub>"
          },
          "metadata": {}
        },
        {
          "output_type": "display_data",
          "data": {
            "text/plain": [
              "<IPython.core.display.Markdown object>"
            ],
            "text/markdown": "[[&ensp;A<sub>0,0</sub>+V<sub>0,</sub>\n  &ensp;A<sub>0,1</sub>+V<sub>0,</sub>\n  &ensp;A<sub>0,2</sub>+V<sub>0,</sub>\n  &ensp;A<sub>0,3</sub>+V<sub>0,</sub>],</br> [&ensp;A<sub>1,0</sub>+V<sub>1,</sub>\n  &ensp;A<sub>1,1</sub>+V<sub>1,</sub>\n  &ensp;A<sub>1,2</sub>+V<sub>1,</sub>\n  &ensp;A<sub>1,3</sub>+V<sub>1,</sub>],</br> [&ensp;A<sub>2,0</sub>+V<sub>2,</sub>\n  &ensp;A<sub>2,1</sub>+V<sub>2,</sub>\n  &ensp;A<sub>2,2</sub>+V<sub>2,</sub>\n  &ensp;A<sub>2,3</sub>+V<sub>2,</sub>],</br> [&ensp;A<sub>3,0</sub>+V<sub>3,</sub>\n  &ensp;A<sub>3,1</sub>+V<sub>3,</sub>\n  &ensp;A<sub>3,2</sub>+V<sub>3,</sub>\n  &ensp;A<sub>3,3</sub>+V<sub>3,</sub>]]&ensp;<sub>4 x 4</sub>"
          },
          "metadata": {}
        },
        {
          "output_type": "display_data",
          "data": {
            "text/plain": [
              "<IPython.core.display.Markdown object>"
            ],
            "text/markdown": "[[&ensp;A<sub>0,0</sub>/V<sub>0,</sub>\n  &ensp;A<sub>0,1</sub>/V<sub>0,</sub>\n  &ensp;A<sub>0,2</sub>/V<sub>0,</sub>\n  &ensp;A<sub>0,3</sub>/V<sub>0,</sub>],</br> [&ensp;A<sub>1,0</sub>/V<sub>1,</sub>\n  &ensp;A<sub>1,1</sub>/V<sub>1,</sub>\n  &ensp;A<sub>1,2</sub>/V<sub>1,</sub>\n  &ensp;A<sub>1,3</sub>/V<sub>1,</sub>],</br> [&ensp;A<sub>2,0</sub>/V<sub>2,</sub>\n  &ensp;A<sub>2,1</sub>/V<sub>2,</sub>\n  &ensp;A<sub>2,2</sub>/V<sub>2,</sub>\n  &ensp;A<sub>2,3</sub>/V<sub>2,</sub>],</br> [&ensp;A<sub>3,0</sub>/V<sub>3,</sub>\n  &ensp;A<sub>3,1</sub>/V<sub>3,</sub>\n  &ensp;A<sub>3,2</sub>/V<sub>3,</sub>\n  &ensp;A<sub>3,3</sub>/V<sub>3,</sub>]]&ensp;<sub>4 x 4</sub>"
          },
          "metadata": {}
        },
        {
          "output_type": "display_data",
          "data": {
            "text/plain": [
              "<IPython.core.display.Markdown object>"
            ],
            "text/markdown": "[[&ensp;A<sub>0,0</sub>-V<sub>0,</sub>\n  &ensp;A<sub>0,1</sub>-V<sub>0,</sub>\n  &ensp;A<sub>0,2</sub>-V<sub>0,</sub>\n  &ensp;A<sub>0,3</sub>-V<sub>0,</sub>],</br> [&ensp;A<sub>1,0</sub>-V<sub>1,</sub>\n  &ensp;A<sub>1,1</sub>-V<sub>1,</sub>\n  &ensp;A<sub>1,2</sub>-V<sub>1,</sub>\n  &ensp;A<sub>1,3</sub>-V<sub>1,</sub>],</br> [&ensp;A<sub>2,0</sub>-V<sub>2,</sub>\n  &ensp;A<sub>2,1</sub>-V<sub>2,</sub>\n  &ensp;A<sub>2,2</sub>-V<sub>2,</sub>\n  &ensp;A<sub>2,3</sub>-V<sub>2,</sub>],</br> [&ensp;A<sub>3,0</sub>-V<sub>3,</sub>\n  &ensp;A<sub>3,1</sub>-V<sub>3,</sub>\n  &ensp;A<sub>3,2</sub>-V<sub>3,</sub>\n  &ensp;A<sub>3,3</sub>-V<sub>3,</sub>]]&ensp;<sub>4 x 4</sub>"
          },
          "metadata": {}
        }
      ]
    },
    {
      "cell_type": "code",
      "source": [
        "v1 = ndmatrix(\"v\", (1, 4)) # define a column 1D matrix \n",
        "show(v1)\n",
        "v2 = ndmatrix(\"v\", (4, 1)) # define a row 1D matrix \n",
        "show(v2)"
      ],
      "metadata": {
        "colab": {
          "base_uri": "https://localhost:8080/",
          "height": 136
        },
        "id": "CkPYWx_O2iR3",
        "outputId": "b7a6666f-39ac-4fe2-d138-d22b94d6784b"
      },
      "execution_count": null,
      "outputs": [
        {
          "output_type": "display_data",
          "data": {
            "text/plain": [
              "<IPython.core.display.Markdown object>"
            ],
            "text/markdown": "[[&ensp;V<sub>0</sub> &ensp;V<sub>1</sub> &ensp;V<sub>2</sub>\n  &ensp;V<sub>3</sub>]]&ensp;<sub>1 x 4</sub>"
          },
          "metadata": {}
        },
        {
          "output_type": "display_data",
          "data": {
            "text/plain": [
              "<IPython.core.display.Markdown object>"
            ],
            "text/markdown": "[[&ensp;V<sub>0,</sub>],</br> [&ensp;V<sub>1,</sub>],</br> [&ensp;V<sub>2,</sub>],</br> [&ensp;V<sub>3,</sub>]]&ensp;<sub>4 x 1</sub>"
          },
          "metadata": {}
        }
      ]
    },
    {
      "cell_type": "code",
      "source": [
        "show(v1 * v2) # Outer product "
      ],
      "metadata": {
        "colab": {
          "base_uri": "https://localhost:8080/",
          "height": 110
        },
        "id": "mytXlHXb3A__",
        "outputId": "83e8ddb6-295d-4f96-964c-3830876fa2f1"
      },
      "execution_count": null,
      "outputs": [
        {
          "output_type": "display_data",
          "data": {
            "text/plain": [
              "<IPython.core.display.Markdown object>"
            ],
            "text/markdown": "[[&ensp;V<sub>0</sub>*V<sub>0,</sub> &ensp;V<sub>1</sub>*V<sub>0,</sub>\n  &ensp;V<sub>2</sub>*V<sub>0,</sub> &ensp;V<sub>3</sub>*V<sub>0,</sub>],</br> [&ensp;V<sub>0</sub>*V<sub>1,</sub> &ensp;V<sub>1</sub>*V<sub>1,</sub>\n  &ensp;V<sub>2</sub>*V<sub>1,</sub> &ensp;V<sub>3</sub>*V<sub>1,</sub>],</br> [&ensp;V<sub>0</sub>*V<sub>2,</sub> &ensp;V<sub>1</sub>*V<sub>2,</sub>\n  &ensp;V<sub>2</sub>*V<sub>2,</sub> &ensp;V<sub>3</sub>*V<sub>2,</sub>],</br> [&ensp;V<sub>0</sub>*V<sub>3,</sub> &ensp;V<sub>1</sub>*V<sub>3,</sub>\n  &ensp;V<sub>2</sub>*V<sub>3,</sub> &ensp;V<sub>3</sub>*V<sub>3,</sub>]]&ensp;<sub>4 x 4</sub>"
          },
          "metadata": {}
        }
      ]
    },
    {
      "cell_type": "code",
      "source": [
        "show(v2 * v1) # Outer product "
      ],
      "metadata": {
        "colab": {
          "base_uri": "https://localhost:8080/",
          "height": 110
        },
        "id": "TM0SpEK13UH_",
        "outputId": "9baffe1c-5e39-4e5c-9269-1fa5ecfd7aa4"
      },
      "execution_count": null,
      "outputs": [
        {
          "output_type": "display_data",
          "data": {
            "text/plain": [
              "<IPython.core.display.Markdown object>"
            ],
            "text/markdown": "[[&ensp;V<sub>0,</sub>*V<sub>0</sub> &ensp;V<sub>0,</sub>*V<sub>1</sub>\n  &ensp;V<sub>0,</sub>*V<sub>2</sub> &ensp;V<sub>0,</sub>*V<sub>3</sub>],</br> [&ensp;V<sub>1,</sub>*V<sub>0</sub> &ensp;V<sub>1,</sub>*V<sub>1</sub>\n  &ensp;V<sub>1,</sub>*V<sub>2</sub> &ensp;V<sub>1,</sub>*V<sub>3</sub>],</br> [&ensp;V<sub>2,</sub>*V<sub>0</sub> &ensp;V<sub>2,</sub>*V<sub>1</sub>\n  &ensp;V<sub>2,</sub>*V<sub>2</sub> &ensp;V<sub>2,</sub>*V<sub>3</sub>],</br> [&ensp;V<sub>3,</sub>*V<sub>0</sub> &ensp;V<sub>3,</sub>*V<sub>1</sub>\n  &ensp;V<sub>3,</sub>*V<sub>2</sub> &ensp;V<sub>3,</sub>*V<sub>3</sub>]]&ensp;<sub>4 x 4</sub>"
          },
          "metadata": {}
        }
      ]
    },
    {
      "cell_type": "code",
      "source": [
        "show(v2 @ v1) # Outer product "
      ],
      "metadata": {
        "colab": {
          "base_uri": "https://localhost:8080/",
          "height": 110
        },
        "id": "8ZBkvIi83oy-",
        "outputId": "cb50d803-2e2c-42a7-e666-bfa83b2870fe"
      },
      "execution_count": null,
      "outputs": [
        {
          "output_type": "display_data",
          "data": {
            "text/plain": [
              "<IPython.core.display.Markdown object>"
            ],
            "text/markdown": "[[&ensp;V<sub>0,</sub>*V<sub>0</sub> &ensp;V<sub>0,</sub>*V<sub>1</sub>\n  &ensp;V<sub>0,</sub>*V<sub>2</sub> &ensp;V<sub>0,</sub>*V<sub>3</sub>],</br> [&ensp;V<sub>1,</sub>*V<sub>0</sub> &ensp;V<sub>1,</sub>*V<sub>1</sub>\n  &ensp;V<sub>1,</sub>*V<sub>2</sub> &ensp;V<sub>1,</sub>*V<sub>3</sub>],</br> [&ensp;V<sub>2,</sub>*V<sub>0</sub> &ensp;V<sub>2,</sub>*V<sub>1</sub>\n  &ensp;V<sub>2,</sub>*V<sub>2</sub> &ensp;V<sub>2,</sub>*V<sub>3</sub>],</br> [&ensp;V<sub>3,</sub>*V<sub>0</sub> &ensp;V<sub>3,</sub>*V<sub>1</sub>\n  &ensp;V<sub>3,</sub>*V<sub>2</sub> &ensp;V<sub>3,</sub>*V<sub>3</sub>]]&ensp;<sub>4 x 4</sub>"
          },
          "metadata": {}
        }
      ]
    },
    {
      "cell_type": "code",
      "source": [
        "show(v1 @ v2) # Inner product "
      ],
      "metadata": {
        "colab": {
          "base_uri": "https://localhost:8080/",
          "height": 49
        },
        "id": "yjNCNB0m3Fhl",
        "outputId": "ba38aff0-d945-4627-8f0f-c41f5db32abc"
      },
      "execution_count": null,
      "outputs": [
        {
          "output_type": "display_data",
          "data": {
            "text/plain": [
              "<IPython.core.display.Markdown object>"
            ],
            "text/markdown": "[[&ensp;V<sub>0</sub>*V<sub>0,</sub>+V<sub>1</sub>*V<sub>1,</sub>+V<sub>2</sub>*V<sub>2,</sub>+V<sub>3</sub>*V<sub>3,</sub>]]&ensp;<sub>1 x 1</sub>"
          },
          "metadata": {}
        }
      ]
    },
    {
      "cell_type": "markdown",
      "source": [
        "Transformations:"
      ],
      "metadata": {
        "id": "Eq7UDz6C5CmH"
      }
    },
    {
      "cell_type": "code",
      "source": [
        "show(a)\n",
        "show(a.T) #Transpose"
      ],
      "metadata": {
        "colab": {
          "base_uri": "https://localhost:8080/",
          "height": 197
        },
        "id": "wkTEDerg3mRI",
        "outputId": "c8991a60-4cbd-41b6-e656-5044747d5f43"
      },
      "execution_count": null,
      "outputs": [
        {
          "output_type": "display_data",
          "data": {
            "text/plain": [
              "<IPython.core.display.Markdown object>"
            ],
            "text/markdown": "[[&ensp;A<sub>0,0</sub> &ensp;A<sub>0,1</sub> &ensp;A<sub>0,2</sub>\n  &ensp;A<sub>0,3</sub>],</br> [&ensp;A<sub>1,0</sub> &ensp;A<sub>1,1</sub> &ensp;A<sub>1,2</sub>\n  &ensp;A<sub>1,3</sub>],</br> [&ensp;A<sub>2,0</sub> &ensp;A<sub>2,1</sub> &ensp;A<sub>2,2</sub>\n  &ensp;A<sub>2,3</sub>],</br> [&ensp;A<sub>3,0</sub> &ensp;A<sub>3,1</sub> &ensp;A<sub>3,2</sub>\n  &ensp;A<sub>3,3</sub>]]&ensp;<sub>4 x 4</sub>"
          },
          "metadata": {}
        },
        {
          "output_type": "display_data",
          "data": {
            "text/plain": [
              "<IPython.core.display.Markdown object>"
            ],
            "text/markdown": "[[&ensp;A<sub>0,0</sub> &ensp;A<sub>1,0</sub> &ensp;A<sub>2,0</sub>\n  &ensp;A<sub>3,0</sub>],</br> [&ensp;A<sub>0,1</sub> &ensp;A<sub>1,1</sub> &ensp;A<sub>2,1</sub>\n  &ensp;A<sub>3,1</sub>],</br> [&ensp;A<sub>0,2</sub> &ensp;A<sub>1,2</sub> &ensp;A<sub>2,2</sub>\n  &ensp;A<sub>3,2</sub>],</br> [&ensp;A<sub>0,3</sub> &ensp;A<sub>1,3</sub> &ensp;A<sub>2,3</sub>\n  &ensp;A<sub>3,3</sub>]]&ensp;<sub>4 x 4</sub>"
          },
          "metadata": {}
        }
      ]
    },
    {
      "cell_type": "code",
      "source": [
        "reshaped = a.reshape(1, -1) #Reshape to a row vector\n",
        "show(reshaped)"
      ],
      "metadata": {
        "colab": {
          "base_uri": "https://localhost:8080/",
          "height": 49
        },
        "id": "LPWlO0k34xTZ",
        "outputId": "850adeb2-1945-4f74-a3ff-809292b3c40d"
      },
      "execution_count": null,
      "outputs": [
        {
          "output_type": "display_data",
          "data": {
            "text/plain": [
              "<IPython.core.display.Markdown object>"
            ],
            "text/markdown": "[[&ensp;A<sub>0,0</sub> &ensp;A<sub>0,1</sub> &ensp;A<sub>0,2</sub>\n  &ensp;A<sub>0,3</sub> &ensp;A<sub>1,0</sub> &ensp;A<sub>1,1</sub>\n  &ensp;A<sub>1,2</sub> &ensp;A<sub>1,3</sub> &ensp;A<sub>2,0</sub>\n  &ensp;A<sub>2,1</sub> &ensp;A<sub>2,2</sub> &ensp;A<sub>2,3</sub>\n  &ensp;A<sub>3,0</sub> &ensp;A<sub>3,1</sub> &ensp;A<sub>3,2</sub>\n  &ensp;A<sub>3,3</sub>]]&ensp;<sub>1 x 16</sub>"
          },
          "metadata": {}
        }
      ]
    },
    {
      "cell_type": "code",
      "source": [
        "reshaped = a.reshape(-1, 1) #Reshape to a column vector\n",
        "show(reshaped)"
      ],
      "metadata": {
        "colab": {
          "base_uri": "https://localhost:8080/",
          "height": 353
        },
        "id": "s76e4SKm5Tsk",
        "outputId": "3aafa8d6-7411-47f7-fdf5-da2de45c91d6"
      },
      "execution_count": null,
      "outputs": [
        {
          "output_type": "display_data",
          "data": {
            "text/plain": [
              "<IPython.core.display.Markdown object>"
            ],
            "text/markdown": "[[&ensp;A<sub>0,0</sub>],</br> [&ensp;A<sub>0,1</sub>],</br> [&ensp;A<sub>0,2</sub>],</br> [&ensp;A<sub>0,3</sub>],</br> [&ensp;A<sub>1,0</sub>],</br> [&ensp;A<sub>1,1</sub>],</br> [&ensp;A<sub>1,2</sub>],</br> [&ensp;A<sub>1,3</sub>],</br> [&ensp;A<sub>2,0</sub>],</br> [&ensp;A<sub>2,1</sub>],</br> [&ensp;A<sub>2,2</sub>],</br> [&ensp;A<sub>2,3</sub>],</br> [&ensp;A<sub>3,0</sub>],</br> [&ensp;A<sub>3,1</sub>],</br> [&ensp;A<sub>3,2</sub>],</br> [&ensp;A<sub>3,3</sub>]]&ensp;<sub>16 x 1</sub>"
          },
          "metadata": {}
        }
      ]
    },
    {
      "cell_type": "code",
      "source": [
        "reshaped = a.reshape(2, 8) #Reshape to a 2x8 matrix\n",
        "show(reshaped)"
      ],
      "metadata": {
        "colab": {
          "base_uri": "https://localhost:8080/",
          "height": 70
        },
        "id": "WbV49bYa5ojO",
        "outputId": "13419ac6-9d36-4165-816a-c50a60b9cbbc"
      },
      "execution_count": null,
      "outputs": [
        {
          "output_type": "display_data",
          "data": {
            "text/plain": [
              "<IPython.core.display.Markdown object>"
            ],
            "text/markdown": "[[&ensp;A<sub>0,0</sub> &ensp;A<sub>0,1</sub> &ensp;A<sub>0,2</sub>\n  &ensp;A<sub>0,3</sub> &ensp;A<sub>1,0</sub> &ensp;A<sub>1,1</sub>\n  &ensp;A<sub>1,2</sub> &ensp;A<sub>1,3</sub>],</br> [&ensp;A<sub>2,0</sub> &ensp;A<sub>2,1</sub> &ensp;A<sub>2,2</sub>\n  &ensp;A<sub>2,3</sub> &ensp;A<sub>3,0</sub> &ensp;A<sub>3,1</sub>\n  &ensp;A<sub>3,2</sub> &ensp;A<sub>3,3</sub>]]&ensp;<sub>2 x 8</sub>"
          },
          "metadata": {}
        }
      ]
    },
    {
      "cell_type": "markdown",
      "source": [
        "Stacking:"
      ],
      "metadata": {
        "id": "iEbPpaLsBpQ2"
      }
    },
    {
      "cell_type": "code",
      "source": [
        "show(np.hstack((a, b))) # Horizontal stacking"
      ],
      "metadata": {
        "colab": {
          "base_uri": "https://localhost:8080/",
          "height": 110
        },
        "id": "3gP8WpY1504I",
        "outputId": "e4e82327-8e4f-4a13-dd06-6347698d29df"
      },
      "execution_count": null,
      "outputs": [
        {
          "output_type": "display_data",
          "data": {
            "text/plain": [
              "<IPython.core.display.Markdown object>"
            ],
            "text/markdown": "[[&ensp;A<sub>0,0</sub> &ensp;A<sub>0,1</sub> &ensp;A<sub>0,2</sub>\n  &ensp;A<sub>0,3</sub> &ensp;B<sub>0,0</sub> &ensp;B<sub>0,1</sub>\n  &ensp;B<sub>0,2</sub> &ensp;B<sub>0,3</sub>],</br> [&ensp;A<sub>1,0</sub> &ensp;A<sub>1,1</sub> &ensp;A<sub>1,2</sub>\n  &ensp;A<sub>1,3</sub> &ensp;B<sub>1,0</sub> &ensp;B<sub>1,1</sub>\n  &ensp;B<sub>1,2</sub> &ensp;B<sub>1,3</sub>],</br> [&ensp;A<sub>2,0</sub> &ensp;A<sub>2,1</sub> &ensp;A<sub>2,2</sub>\n  &ensp;A<sub>2,3</sub> &ensp;B<sub>2,0</sub> &ensp;B<sub>2,1</sub>\n  &ensp;B<sub>2,2</sub> &ensp;B<sub>2,3</sub>],</br> [&ensp;A<sub>3,0</sub> &ensp;A<sub>3,1</sub> &ensp;A<sub>3,2</sub>\n  &ensp;A<sub>3,3</sub> &ensp;B<sub>3,0</sub> &ensp;B<sub>3,1</sub>\n  &ensp;B<sub>3,2</sub> &ensp;B<sub>3,3</sub>]]&ensp;<sub>4 x 8</sub>"
          },
          "metadata": {}
        }
      ]
    },
    {
      "cell_type": "code",
      "source": [
        "show(np.vstack((a, b))) # Virtical stacking"
      ],
      "metadata": {
        "colab": {
          "base_uri": "https://localhost:8080/",
          "height": 191
        },
        "id": "EAFXzcmzB0nA",
        "outputId": "22c26d9c-d469-411f-ad51-a4c5ee9144cc"
      },
      "execution_count": null,
      "outputs": [
        {
          "output_type": "display_data",
          "data": {
            "text/plain": [
              "<IPython.core.display.Markdown object>"
            ],
            "text/markdown": "[[&ensp;A<sub>0,0</sub> &ensp;A<sub>0,1</sub> &ensp;A<sub>0,2</sub>\n  &ensp;A<sub>0,3</sub>],</br> [&ensp;A<sub>1,0</sub> &ensp;A<sub>1,1</sub> &ensp;A<sub>1,2</sub>\n  &ensp;A<sub>1,3</sub>],</br> [&ensp;A<sub>2,0</sub> &ensp;A<sub>2,1</sub> &ensp;A<sub>2,2</sub>\n  &ensp;A<sub>2,3</sub>],</br> [&ensp;A<sub>3,0</sub> &ensp;A<sub>3,1</sub> &ensp;A<sub>3,2</sub>\n  &ensp;A<sub>3,3</sub>],</br> [&ensp;B<sub>0,0</sub> &ensp;B<sub>0,1</sub> &ensp;B<sub>0,2</sub>\n  &ensp;B<sub>0,3</sub>],</br> [&ensp;B<sub>1,0</sub> &ensp;B<sub>1,1</sub> &ensp;B<sub>1,2</sub>\n  &ensp;B<sub>1,3</sub>],</br> [&ensp;B<sub>2,0</sub> &ensp;B<sub>2,1</sub> &ensp;B<sub>2,2</sub>\n  &ensp;B<sub>2,3</sub>],</br> [&ensp;B<sub>3,0</sub> &ensp;B<sub>3,1</sub> &ensp;B<sub>3,2</sub>\n  &ensp;B<sub>3,3</sub>]]&ensp;<sub>8 x 4</sub>"
          },
          "metadata": {}
        }
      ]
    },
    {
      "cell_type": "markdown",
      "source": [
        "Splitting:"
      ],
      "metadata": {
        "id": "eTbqP8F0CiiV"
      }
    },
    {
      "cell_type": "code",
      "source": [
        "a1, a2 = np.hsplit(a, [2])  #Horizontal splitting by column 2 (right-exclusive)\n",
        "show(a1)\n",
        "show(a2)"
      ],
      "metadata": {
        "colab": {
          "base_uri": "https://localhost:8080/",
          "height": 197
        },
        "id": "0uCfRKwICVNP",
        "outputId": "553502c8-2dca-4e01-b6ce-ae3d842d77d1"
      },
      "execution_count": null,
      "outputs": [
        {
          "output_type": "display_data",
          "data": {
            "text/plain": [
              "<IPython.core.display.Markdown object>"
            ],
            "text/markdown": "[[&ensp;A<sub>0,0</sub> &ensp;A<sub>0,1</sub>],</br> [&ensp;A<sub>1,0</sub> &ensp;A<sub>1,1</sub>],</br> [&ensp;A<sub>2,0</sub> &ensp;A<sub>2,1</sub>],</br> [&ensp;A<sub>3,0</sub> &ensp;A<sub>3,1</sub>]]&ensp;<sub>4 x 2</sub>"
          },
          "metadata": {}
        },
        {
          "output_type": "display_data",
          "data": {
            "text/plain": [
              "<IPython.core.display.Markdown object>"
            ],
            "text/markdown": "[[&ensp;A<sub>0,2</sub> &ensp;A<sub>0,3</sub>],</br> [&ensp;A<sub>1,2</sub> &ensp;A<sub>1,3</sub>],</br> [&ensp;A<sub>2,2</sub> &ensp;A<sub>2,3</sub>],</br> [&ensp;A<sub>3,2</sub> &ensp;A<sub>3,3</sub>]]&ensp;<sub>4 x 2</sub>"
          },
          "metadata": {}
        }
      ]
    },
    {
      "cell_type": "code",
      "source": [
        "a1, a2, a3 = np.vsplit(a, [1, 3])  #Horizontal splitting by row 1, 3 (right-exclusive)\n",
        "show(a1)\n",
        "show(a2)\n",
        "show(a3)"
      ],
      "metadata": {
        "colab": {
          "base_uri": "https://localhost:8080/",
          "height": 122
        },
        "id": "0pUs5qEXCuVI",
        "outputId": "e00f51cb-1874-466d-f3ba-b283cc33a49c"
      },
      "execution_count": null,
      "outputs": [
        {
          "output_type": "display_data",
          "data": {
            "text/plain": [
              "<IPython.core.display.Markdown object>"
            ],
            "text/markdown": "[[&ensp;A<sub>0,0</sub> &ensp;A<sub>0,1</sub> &ensp;A<sub>0,2</sub>\n  &ensp;A<sub>0,3</sub>]]&ensp;<sub>1 x 4</sub>"
          },
          "metadata": {}
        },
        {
          "output_type": "display_data",
          "data": {
            "text/plain": [
              "<IPython.core.display.Markdown object>"
            ],
            "text/markdown": "[[&ensp;A<sub>1,0</sub> &ensp;A<sub>1,1</sub> &ensp;A<sub>1,2</sub>\n  &ensp;A<sub>1,3</sub>],</br> [&ensp;A<sub>2,0</sub> &ensp;A<sub>2,1</sub> &ensp;A<sub>2,2</sub>\n  &ensp;A<sub>2,3</sub>]]&ensp;<sub>2 x 4</sub>"
          },
          "metadata": {}
        },
        {
          "output_type": "display_data",
          "data": {
            "text/plain": [
              "<IPython.core.display.Markdown object>"
            ],
            "text/markdown": "[[&ensp;A<sub>3,0</sub> &ensp;A<sub>3,1</sub> &ensp;A<sub>3,2</sub>\n  &ensp;A<sub>3,3</sub>]]&ensp;<sub>1 x 4</sub>"
          },
          "metadata": {}
        }
      ]
    },
    {
      "cell_type": "markdown",
      "source": [
        "Tile:"
      ],
      "metadata": {
        "id": "0qt32-2BJrVp"
      }
    },
    {
      "cell_type": "code",
      "source": [
        "show(np.tile(a, (2, 3))) # repeated copy-paste of a 2x3"
      ],
      "metadata": {
        "colab": {
          "base_uri": "https://localhost:8080/",
          "height": 191
        },
        "id": "bdaSuA2FDV-M",
        "outputId": "e365eb67-3040-4e94-fbc3-7f5185921279"
      },
      "execution_count": null,
      "outputs": [
        {
          "output_type": "display_data",
          "data": {
            "text/plain": [
              "<IPython.core.display.Markdown object>"
            ],
            "text/markdown": "[[&ensp;A<sub>0,0</sub> &ensp;A<sub>0,1</sub> &ensp;A<sub>0,2</sub>\n  &ensp;A<sub>0,3</sub> &ensp;A<sub>0,0</sub> &ensp;A<sub>0,1</sub>\n  &ensp;A<sub>0,2</sub> &ensp;A<sub>0,3</sub> &ensp;A<sub>0,0</sub>\n  &ensp;A<sub>0,1</sub> &ensp;A<sub>0,2</sub> &ensp;A<sub>0,3</sub>],</br> [&ensp;A<sub>1,0</sub> &ensp;A<sub>1,1</sub> &ensp;A<sub>1,2</sub>\n  &ensp;A<sub>1,3</sub> &ensp;A<sub>1,0</sub> &ensp;A<sub>1,1</sub>\n  &ensp;A<sub>1,2</sub> &ensp;A<sub>1,3</sub> &ensp;A<sub>1,0</sub>\n  &ensp;A<sub>1,1</sub> &ensp;A<sub>1,2</sub> &ensp;A<sub>1,3</sub>],</br> [&ensp;A<sub>2,0</sub> &ensp;A<sub>2,1</sub> &ensp;A<sub>2,2</sub>\n  &ensp;A<sub>2,3</sub> &ensp;A<sub>2,0</sub> &ensp;A<sub>2,1</sub>\n  &ensp;A<sub>2,2</sub> &ensp;A<sub>2,3</sub> &ensp;A<sub>2,0</sub>\n  &ensp;A<sub>2,1</sub> &ensp;A<sub>2,2</sub> &ensp;A<sub>2,3</sub>],</br> [&ensp;A<sub>3,0</sub> &ensp;A<sub>3,1</sub> &ensp;A<sub>3,2</sub>\n  &ensp;A<sub>3,3</sub> &ensp;A<sub>3,0</sub> &ensp;A<sub>3,1</sub>\n  &ensp;A<sub>3,2</sub> &ensp;A<sub>3,3</sub> &ensp;A<sub>3,0</sub>\n  &ensp;A<sub>3,1</sub> &ensp;A<sub>3,2</sub> &ensp;A<sub>3,3</sub>],</br> [&ensp;A<sub>0,0</sub> &ensp;A<sub>0,1</sub> &ensp;A<sub>0,2</sub>\n  &ensp;A<sub>0,3</sub> &ensp;A<sub>0,0</sub> &ensp;A<sub>0,1</sub>\n  &ensp;A<sub>0,2</sub> &ensp;A<sub>0,3</sub> &ensp;A<sub>0,0</sub>\n  &ensp;A<sub>0,1</sub> &ensp;A<sub>0,2</sub> &ensp;A<sub>0,3</sub>],</br> [&ensp;A<sub>1,0</sub> &ensp;A<sub>1,1</sub> &ensp;A<sub>1,2</sub>\n  &ensp;A<sub>1,3</sub> &ensp;A<sub>1,0</sub> &ensp;A<sub>1,1</sub>\n  &ensp;A<sub>1,2</sub> &ensp;A<sub>1,3</sub> &ensp;A<sub>1,0</sub>\n  &ensp;A<sub>1,1</sub> &ensp;A<sub>1,2</sub> &ensp;A<sub>1,3</sub>],</br> [&ensp;A<sub>2,0</sub> &ensp;A<sub>2,1</sub> &ensp;A<sub>2,2</sub>\n  &ensp;A<sub>2,3</sub> &ensp;A<sub>2,0</sub> &ensp;A<sub>2,1</sub>\n  &ensp;A<sub>2,2</sub> &ensp;A<sub>2,3</sub> &ensp;A<sub>2,0</sub>\n  &ensp;A<sub>2,1</sub> &ensp;A<sub>2,2</sub> &ensp;A<sub>2,3</sub>],</br> [&ensp;A<sub>3,0</sub> &ensp;A<sub>3,1</sub> &ensp;A<sub>3,2</sub>\n  &ensp;A<sub>3,3</sub> &ensp;A<sub>3,0</sub> &ensp;A<sub>3,1</sub>\n  &ensp;A<sub>3,2</sub> &ensp;A<sub>3,3</sub> &ensp;A<sub>3,0</sub>\n  &ensp;A<sub>3,1</sub> &ensp;A<sub>3,2</sub> &ensp;A<sub>3,3</sub>]]&ensp;<sub>8 x 12</sub>"
          },
          "metadata": {}
        }
      ]
    }
  ]
}